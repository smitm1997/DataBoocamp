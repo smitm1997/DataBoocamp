{
 "cells": [
  {
   "cell_type": "markdown",
   "metadata": {},
   "source": [
    "# Data Bootcamp \n",
    "\n",
    "NYU Stern School of Business | October 2018\n"
   ]
  },
  {
   "cell_type": "markdown",
   "metadata": {},
   "source": [
    "## Import packages   \n",
    "\n",
    "Run this code.  Really.  "
   ]
  },
  {
   "cell_type": "code",
   "execution_count": 1,
   "metadata": {},
   "outputs": [
    {
     "name": "stdout",
     "output_type": "stream",
     "text": [
      "Today is 2018-10-17\n",
      "Python version:\n",
      "3.6.6 |Anaconda custom (64-bit)| (default, Jun 28 2018, 11:07:29) \n",
      "[GCC 4.2.1 Compatible Clang 4.0.1 (tags/RELEASE_401/final)]\n"
     ]
    }
   ],
   "source": [
    "# import packages \n",
    "import pandas as pd                   # data management\n",
    "import matplotlib.pyplot as plt       # graphics \n",
    "import datetime as dt                 # check today's date \n",
    "import sys                            # check Python version \n",
    "\n",
    "# IPython command, puts plots in notebook \n",
    "%matplotlib inline\n",
    "\n",
    "print('Today is', dt.date.today())\n",
    "print('Python version:\\n', sys.version, sep='') ## Question 0\n"
   ]
  },
  {
   "cell_type": "markdown",
   "metadata": {},
   "source": [
    "## Question 0\n",
    "\n",
    "<!-- This question is so we can grade the exams, but also tests basic skills in working with notebooks -->\n",
    "\n",
    "* Change the file name by adding `_YourLastName` to it in the textbox at the top.  \n",
    "* Add a markdown cell directly *below* this one that includes your name in bold, your student number, and your email address.  \n",
    "\n",
    "(5 points)"
   ]
  },
  {
   "cell_type": "markdown",
   "metadata": {},
   "source": [
    "**My Name**\n",
    "\n",
    "Student number: N1234567\n",
    "\n",
    "email address: me@domain.com"
   ]
  },
  {
   "cell_type": "markdown",
   "metadata": {},
   "source": [
    "## Question 1 \n",
    "\n",
    "For each part (a)-(i), describe the **type** and **value** of the variable with the corresponding name:\n",
    "\n",
    "(a) `a = 2*3` \n",
    "\n",
    "(b) `b = 2.0*3`\n",
    "\n",
    "(c) `c = 'abc'`\n",
    "\n",
    "(d) `d = ['This', \"is\", 'not', \"a\", 'string']`\n",
    "\n",
    "(e) `e = d[3]`\n",
    "\n",
    "(f) `f = (1, 2, 3)`\n",
    "\n",
    "(g) `g = {1: 'Chase', 2: 'Dave', 3: 'Spencer'}` \n",
    "\n",
    "(h) `h = 'foo' + 'bar'`\n",
    "\n",
    "(i) `i = (1 != 0)`   # parens not needed, but they make code more understandable\n",
    "\n",
    "(10 points) "
   ]
  },
  {
   "cell_type": "code",
   "execution_count": null,
   "metadata": {},
   "outputs": [],
   "source": [
    "#experiment in this box\n"
   ]
  },
  {
   "cell_type": "markdown",
   "metadata": {},
   "source": [
    "## Question 2\n",
    "\n",
    "Take the `first` and `last` variables defined in the cell below and do the following with them:  \n",
    "\n",
    "(a) Extract the first letter of `last`.  \n",
    "\n",
    "(b) Find a method to _split_ `last` into two components at the hyphen.  \n",
    "\n",
    "(c) Define a new string variable named `combo` consisting of `first` (the first name), a space, the first letter of `last`, and a period.  \n",
    "\n",
    "(d) Define a function that takes as inputs first and last names (both strings) and returns `combo` (also a string, consisting of the first name plus the first letter of the last name and a period).  Apply it to the variables `first` and `last` and to your own first and last names.  \n",
    "\n",
    "(15 points)"
   ]
  },
  {
   "cell_type": "code",
   "execution_count": null,
   "metadata": {},
   "outputs": [],
   "source": [
    "first = 'Wilhelmina'\n",
    "last  = 'Grubbly-Plank' "
   ]
  },
  {
   "cell_type": "code",
   "execution_count": null,
   "metadata": {},
   "outputs": [],
   "source": []
  },
  {
   "cell_type": "markdown",
   "metadata": {},
   "source": [
    "## Question 3\n",
    "\n",
    "Write a program that loops over a list of integers from 1 to 50, and for each integer: \n",
    "prints out `\"fizz\"` if the integer is only divisible by 3 ; and `\"buzz\"` if it is only divisible by 5; if the integer is divisible by 3 and 5 print out `\"fizzbuzz\"` ; if the integer is not divisible by any of those and less than 25, print the value of the integer ; if the integer is not divisible by any of those and greater than 25, print the square root of the integer.\n",
    "\n",
    "(10 points)"
   ]
  },
  {
   "cell_type": "code",
   "execution_count": null,
   "metadata": {},
   "outputs": [],
   "source": []
  },
  {
   "cell_type": "markdown",
   "metadata": {},
   "source": [
    "## Question 4\n",
    "\n",
    "Next up:  We explore the Census's *Business Dynamics Statistics*, a huge collection of data about firms.  We've extracted a small piece of one of their databases that includes these variables for 2013:\n",
    "\n",
    "* `Size`:  size category of firms based on number of employees \n",
    "* `Firms`:  number of firms in this size category\n",
    "* `Emp`:  number of employees in this size category \n",
    "\n",
    "Run the code cell below to load the data and use the result to answer these questions:  \n",
    "\n",
    "(a) What type of object is `bds`?\n",
    "\n",
    "(b) What are its dimensions?\n",
    "\n",
    "(c) What are its column labels?  Row labels?\n",
    "\n",
    "(d) What dtypes are the columns?   \n",
    "\n",
    "(10 points) "
   ]
  },
  {
   "cell_type": "code",
   "execution_count": 2,
   "metadata": {},
   "outputs": [],
   "source": [
    "data = {'Size': ['1 to 4', '5 to 9', '10 to 19', '20 to 49', '50 to 99',\n",
    "                 '100 to 249', '250 to 499', '500 to 999', '1000 to 2499',\n",
    "                 '2500 to 4999', '5000 to 9999', '10000+'], \n",
    "        'Firms': [2846416, 1020772, 598153, 373345, 115544, 63845,\n",
    "                  19389, 9588, 6088, 2287, 1250, 1357], \n",
    "        'Emp': [5998912, 6714924, 8151891, 11425545, 8055535, 9788341, \n",
    "                6611734, 6340775, 8321486, 6738218, 6559020, 32556671]}\n",
    "bds = pd.DataFrame(data) \n",
    "bds = bds.set_index('Size')"
   ]
  },
  {
   "cell_type": "code",
   "execution_count": null,
   "metadata": {},
   "outputs": [],
   "source": []
  },
  {
   "cell_type": "markdown",
   "metadata": {},
   "source": [
    "## Question 5\n",
    "\n",
    "Continuing with the same data:  \n",
    "\n",
    "(a) Create a new variable `AvgEmp` equal to the ratio of `Emp` to `Firms` and add it as a new column in `bsd`.\n",
    "\n",
    "(b) Use a dataframe method to change the name of `Emp` to `Employees`. \n",
    "\n",
    "(c) Create a bar chart of the number of employees in each size category.  \n",
    "\n",
    "(15 points) "
   ]
  },
  {
   "cell_type": "code",
   "execution_count": null,
   "metadata": {},
   "outputs": [],
   "source": []
  },
  {
   "cell_type": "markdown",
   "metadata": {},
   "source": [
    "## Question 6\n",
    "\n",
    "Still continuing with the same data:  \n",
    "\n",
    "(a) Create figure and axis objects.  \n",
    "\n",
    "(b) Add a horizontal bar chart of the number of firms in each category to the axis object you created. \n",
    "\n",
    "(c) Make the bars red. \n",
    "\n",
    "(d) Add a title.\n",
    "\n",
    "(e) Change the style to `seaborn-pastel`.  \n",
    "\n",
    "(20 points) "
   ]
  },
  {
   "cell_type": "code",
   "execution_count": null,
   "metadata": {},
   "outputs": [],
   "source": []
  },
  {
   "cell_type": "markdown",
   "metadata": {},
   "source": [
    "## Question 7\n",
    "\n",
    "Refer to the list of strings below called \"paren\".\n",
    "\n",
    "(a) Loop through each item of the list and, for each item, replace the parentheses in each string with a dash (\"-\") so that there is a space on either side of each dash. Print the new string of each element.\n",
    "\n",
    "(b) For each item in the list, print the index of each of the parentheses.\n",
    "Hint: try running: `str.find?`\n",
    "\n",
    "(c) Create a function that replaces removes the contents of parentheses in a string. This function should return a new string that has all the content in the old string except for what is between the two parentheses.\n",
    "\n",
    "(d) Create an new list that contains all the elements of the old list without the contents of the parentheses\n",
    "\n",
    "(15 points) "
   ]
  },
  {
   "cell_type": "code",
   "execution_count": null,
   "metadata": {},
   "outputs": [],
   "source": [
    "paren = ['When we went to town on Monday (it was so early!) everyone was falling asleep',\n",
    "         'It is obvious (so obvious) that I am going to get a good grade on this exam',\n",
    "         'As she sang her famous line (the one they wrote that article about) the crowd went wild']"
   ]
  },
  {
   "cell_type": "code",
   "execution_count": null,
   "metadata": {},
   "outputs": [],
   "source": []
  }
 ],
 "metadata": {
  "anaconda-cloud": {},
  "kernelspec": {
   "display_name": "Python 3",
   "language": "python",
   "name": "python3"
  },
  "language_info": {
   "codemirror_mode": {
    "name": "ipython",
    "version": 3
   },
   "file_extension": ".py",
   "mimetype": "text/x-python",
   "name": "python",
   "nbconvert_exporter": "python",
   "pygments_lexer": "ipython3",
   "version": "3.6.6"
  }
 },
 "nbformat": 4,
 "nbformat_minor": 2
}
